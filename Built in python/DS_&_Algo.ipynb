{
  "nbformat": 4,
  "nbformat_minor": 0,
  "metadata": {
    "colab": {
      "name": "DS & Algo.ipynb",
      "provenance": [],
      "collapsed_sections": [],
      "authorship_tag": "ABX9TyMD/XivIoDqaSQQggErTcXS",
      "include_colab_link": true
    },
    "kernelspec": {
      "name": "python3",
      "display_name": "Python 3"
    }
  },
  "cells": [
    {
      "cell_type": "markdown",
      "metadata": {
        "id": "view-in-github",
        "colab_type": "text"
      },
      "source": [
        "<a href=\"https://colab.research.google.com/github/the-last-crusaderr/Data-Structure-and-Algorithm/blob/main/DS_%26_Algo.ipynb\" target=\"_parent\"><img src=\"https://colab.research.google.com/assets/colab-badge.svg\" alt=\"Open In Colab\"/></a>"
      ]
    },
    {
      "cell_type": "markdown",
      "metadata": {
        "id": "sYilHoB9e4yx"
      },
      "source": [
        "This is the demonstation of stack data structure in python\n"
      ]
    },
    {
      "cell_type": "code",
      "metadata": {
        "colab": {
          "base_uri": "https://localhost:8080/"
        },
        "id": "hPUpY1quCcjg",
        "outputId": "885daf4d-193e-4b4a-f971-64eb6f77690c"
      },
      "source": [
        "class Node:\n",
        " def __init__(self,data=None,next=None):\n",
        "   self.data = data\n",
        "   self.next = next\n",
        "\n",
        "\n",
        "class Stack:\n",
        "  def __init__(self):\n",
        "    self.top = None\n",
        "    self.size = 0\n",
        "\n",
        "  def push(self,data):\n",
        "    node = Node(data)\n",
        "    if self.top:\n",
        "      node.next = self.top\n",
        "      self.top = node\n",
        "    else:\n",
        "      self.top = node\n",
        "    self.size += 1  \n",
        "\n",
        "\n",
        "  def pop(self):\n",
        "    if self.size == 0:\n",
        "      print(\"Nothing to pop out\")\n",
        "    else:\n",
        "      data = self.top.data\n",
        "      self.size -= 1\n",
        "      self.top = self.top.next\n",
        "      return data\n",
        "\n",
        "   def peek(self):\n",
        "     if self.size == 0:\n",
        "       print(\"Nothing to peek\")   \n",
        "     else:\n",
        "       return self.top.data  \n",
        "\n",
        "\n",
        "\n",
        "\n",
        "\n",
        "s= Stack()\n",
        "s.push(5)\n",
        "s.push(3)\n",
        "print(s.pop())"
      ],
      "execution_count": 16,
      "outputs": [
        {
          "output_type": "stream",
          "text": [
            "3\n"
          ],
          "name": "stdout"
        }
      ]
    },
    {
      "cell_type": "markdown",
      "metadata": {
        "id": "5oi5rA5GUhmi"
      },
      "source": [
        ""
      ]
    },
    {
      "cell_type": "code",
      "metadata": {
        "id": "rT_sflTNUeAF"
      },
      "source": [
        ""
      ],
      "execution_count": null,
      "outputs": []
    },
    {
      "cell_type": "markdown",
      "metadata": {
        "id": "eI8N0Cj8Doxw"
      },
      "source": [
        ""
      ]
    }
  ]
}