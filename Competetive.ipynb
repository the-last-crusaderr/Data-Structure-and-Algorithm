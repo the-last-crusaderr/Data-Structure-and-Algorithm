{
  "nbformat": 4,
  "nbformat_minor": 0,
  "metadata": {
    "colab": {
      "name": "Competetive.ipynb",
      "provenance": [],
      "authorship_tag": "ABX9TyPWd8ZUQAlkVjwe7Ti4HvFT",
      "include_colab_link": true
    },
    "kernelspec": {
      "name": "python3",
      "display_name": "Python 3"
    }
  },
  "cells": [
    {
      "cell_type": "markdown",
      "metadata": {
        "id": "view-in-github",
        "colab_type": "text"
      },
      "source": [
        "<a href=\"https://colab.research.google.com/github/the-last-crusaderr/Data-Structure-and-Algorithm/blob/main/Competetive.ipynb\" target=\"_parent\"><img src=\"https://colab.research.google.com/assets/colab-badge.svg\" alt=\"Open In Colab\"/></a>"
      ]
    },
    {
      "cell_type": "markdown",
      "metadata": {
        "id": "2AwnKpp6514a"
      },
      "source": [
        "https://www.codechef.com/problems/LECANDY "
      ]
    },
    {
      "cell_type": "code",
      "metadata": {
        "colab": {
          "base_uri": "https://localhost:8080/"
        },
        "id": "YmntwlwB3zpK",
        "outputId": "37a19859-cb11-42c0-c142-b3cddb89a1ee"
      },
      "source": [
        "t=int(input())\n",
        "while(t):\n",
        "  n,c = input().split()\n",
        "  n = int(n)\n",
        "  c = int(c)\n",
        "  a = input().split()\n",
        "  for i in range(len(a)):\n",
        "    a[i] = int(a[i])\n",
        "  sum = 0\n",
        "  for i in range(len(a)):\n",
        "    sum += a[i]\n",
        "\n",
        "  if sum == c or sum <= c:\n",
        "    print(\"Yes\")    \n",
        "  else:\n",
        "    print(\"No\")  \n",
        "\n",
        "\n",
        "  t -= 1"
      ],
      "execution_count": null,
      "outputs": [
        {
          "output_type": "stream",
          "text": [
            "2\n",
            "2 3\n",
            "1 1\n",
            "Yes\n",
            "3 7\n",
            "4 2 2\n",
            "No\n"
          ],
          "name": "stdout"
        }
      ]
    },
    {
      "cell_type": "markdown",
      "metadata": {
        "id": "oIFwryOMoFq3"
      },
      "source": [
        "https://www.codechef.com/problems/CNOTE"
      ]
    },
    {
      "cell_type": "code",
      "metadata": {
        "colab": {
          "base_uri": "https://localhost:8080/"
        },
        "id": "W6kRclBMoIdu",
        "outputId": "a9e17488-bbe7-434a-f4b7-a112d1778a68"
      },
      "source": [
        "\n",
        "# input number of test cases\n",
        "tc = int(input())\n",
        "for i in range (tc):\n",
        "    x,y,k,n = map(int, input().split())\n",
        "    p = [] # no. of pages list\n",
        "    c = [] # cost list\n",
        "    for i in range (n):\n",
        "        pages,cost = map(int, input().split())\n",
        "        p.append(pages)\n",
        "        c.append(cost)\n",
        "    pages_needed = x - y\n",
        "    flag = 0\n",
        "    for i in range (n):\n",
        "        if(p[i] >= pages_needed and c[i] <= k):\n",
        "            flag = 1\n",
        "            break\n",
        "    if(flag == 1):\n",
        "        print(\"LuckyChef\")\n",
        "    else:\n",
        "        print(\"UnluckyChef\")\n",
        "    p.clear()\n",
        "    c.clear()"
      ],
      "execution_count": 5,
      "outputs": [
        {
          "output_type": "stream",
          "text": [
            "3\n",
            "3 1 2 2\n",
            "3 4\n",
            "2 2\n",
            "\"LuckyChef\"\n",
            "3 1 2 2\n",
            "2 3 \n",
            "2 3\n",
            "\"UnluckyChef\"\n",
            "3 1 2 2\n",
            "1 1 \n",
            "1 2\n",
            "\"UnluckyChef\"\n"
          ],
          "name": "stdout"
        }
      ]
    },
    {
      "cell_type": "markdown",
      "metadata": {
        "id": "M_i2B9Vn0HZ8"
      },
      "source": [
        "1 2 3 4 \n",
        "\n"
      ]
    }
  ]
}