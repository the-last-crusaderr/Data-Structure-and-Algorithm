{
  "nbformat": 4,
  "nbformat_minor": 0,
  "metadata": {
    "colab": {
      "name": "DS & Algo.ipynb",
      "provenance": [],
      "authorship_tag": "ABX9TyODGlAeLNtDVy0/Ip12hDNx",
      "include_colab_link": true
    },
    "kernelspec": {
      "name": "python3",
      "display_name": "Python 3"
    }
  },
  "cells": [
    {
      "cell_type": "markdown",
      "metadata": {
        "id": "view-in-github",
        "colab_type": "text"
      },
      "source": [
        "<a href=\"https://colab.research.google.com/github/the-last-crusaderr/Data-Structure-and-Algorithm/blob/main/DS_%26_Algo.ipynb\" target=\"_parent\"><img src=\"https://colab.research.google.com/assets/colab-badge.svg\" alt=\"Open In Colab\"/></a>"
      ]
    },
    {
      "cell_type": "markdown",
      "metadata": {
        "id": "sYilHoB9e4yx"
      },
      "source": [
        ""
      ]
    },
    {
      "cell_type": "code",
      "metadata": {
        "colab": {
          "base_uri": "https://localhost:8080/"
        },
        "id": "Pa5iiOb7LeDB",
        "outputId": "4ce39e4f-a7ab-4bc2-af20-c407de514b67"
      },
      "source": [
        "print(\"lfjalj\")\n",
        "x = 5\n",
        "print(x)"
      ],
      "execution_count": null,
      "outputs": [
        {
          "output_type": "stream",
          "text": [
            "lfjalj\n",
            "5\n"
          ],
          "name": "stdout"
        }
      ]
    }
  ]
}